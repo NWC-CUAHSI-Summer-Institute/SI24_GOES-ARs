{
 "cells": [
  {
   "cell_type": "code",
   "execution_count": 6,
   "id": "82e8f475-51f6-4456-9873-1b9872d71940",
   "metadata": {},
   "outputs": [],
   "source": [
    "from goes2go import GOES\n",
    "import time\n",
    "from datetime import datetime, timedelta\n",
    "import os"
   ]
  },
  {
   "cell_type": "code",
   "execution_count": 2,
   "id": "af4e5c95-dfc3-4a84-a52a-3688ab4315ac",
   "metadata": {},
   "outputs": [],
   "source": [
    "def goes_get(start_date, end_date, save_path, satellite_name, product_name, domain_name, bands_name):\n",
    "    \"\"\"\n",
    "    Retrieves GOES satellite data for the specified parameters and saves it to the given path.\n",
    "    \n",
    "    Parameters:\n",
    "    start_date (str): The start date for data retrieval in 'YYYY-MM-DD HH:MM:SS' format.\n",
    "    end_date (str): The end date for data retrieval in 'YYYY-MM-DD HH:MM:SS' format.\n",
    "    save_path (str): The directory path where the data will be saved.\n",
    "    satellite_name (str): The name of the satellite.\n",
    "    product_name (str): The product name to retrieve.\n",
    "    domain_name (str): The domain name for the data.\n",
    "    bands_name (list): The list of band names to retrieve.\n",
    "    \n",
    "    Returns:\n",
    "    dict: Information about the retrieved data.\n",
    "    \"\"\"\n",
    "    \n",
    "    # Record the start time to measure the execution time of the script\n",
    "    start_time = time.time()\n",
    "    \n",
    "    # Initialize a GOES object with the specified parameters\n",
    "    G = GOES(satellite=satellite_name, product=product_name, domain=domain_name, bands=bands_name)\n",
    "    \n",
    "    # Ensure the directory exists before saving the data\n",
    "    os.makedirs(os.path.dirname(save_path), exist_ok=True)\n",
    "    \n",
    "    # Retrieve data within the specified date range and save it to the specified directory\n",
    "    data_info = G.timerange(start=start_date, end=end_date, save_dir=save_path)\n",
    "    \n",
    "    # Calculate and print the total run time of the script in hours and minutes\n",
    "    elapsed_time = time.time() - start_time\n",
    "    hours, remainder = divmod(elapsed_time, 3600)\n",
    "    minutes = remainder // 60\n",
    "    print(f\"Run Time: {int(hours)} hours, {int(minutes)} minutes\")\n",
    "    \n",
    "    # Return the data information retrieved by the GOES object\n",
    "    return data_info"
   ]
  },
  {
   "cell_type": "code",
   "execution_count": 9,
   "id": "d01910aa-9f58-4bb9-b85f-95423aab3729",
   "metadata": {},
   "outputs": [
    {
     "name": "stdout",
     "output_type": "stream",
     "text": [
      "📦 Finished downloading [2] files to [output/noaa-goes17/ABI-L1b-RadF].\n",
      "Run Time: 0 hours, 0 minutes\n",
      "📦 Finished downloading [2] files to [output/noaa-goes17/ABI-L1b-RadF].\n",
      "Run Time: 0 hours, 0 minutes\n",
      "📦 Finished downloading [2] files to [output/noaa-goes17/ABI-L1b-RadF].\n",
      "Run Time: 0 hours, 0 minutes\n",
      "📦 Finished downloading [2] files to [output/noaa-goes17/ABI-L1b-RadF].\n",
      "Run Time: 0 hours, 0 minutes\n"
     ]
    }
   ],
   "source": [
    "# Define the start and end dates for the data retrieval\n",
    "start_date = '2022-12-27'\n",
    "end_date = '2022-12-28'\n",
    "save_path = 'output'\n",
    "satellite_name = 'goes17'\n",
    "product_name = 'ABI-L1b-RadF'\n",
    "domain_name = 'C'\n",
    "bands_name = list(range(1, 17))  # Bands from 1 to 16\n",
    "specific_hours = ['00', '06', '12', '18']  # Specific hours to download data\n",
    "\n",
    "# Convert start and end dates to datetime objects\n",
    "start_dt = datetime.strptime(start_date, '%Y-%m-%d')\n",
    "end_dt = datetime.strptime(end_date, '%Y-%m-%d')\n",
    "\n",
    "# Loop through each band and each specific hour to call goes_get function to retrieve data\n",
    "for hour in specific_hours:\n",
    "    time_str = f\"{hour}:00:00\"\n",
    "    start_time = datetime.combine(start_dt, datetime.strptime(time_str, '%H:%M:%S').time())\n",
    "    end_time = start_time + timedelta(minutes=20)\n",
    "\n",
    "    band_save_path = f\"{save_path}/\"  # Example path for demonstration\n",
    "    os.makedirs(os.path.dirname(band_save_path), exist_ok=True)  # Create the directory if it doesn't exist\n",
    "\n",
    "    data_information = goes_get(\n",
    "        start_time.strftime('%Y-%m-%d %H:%M:%S'),\n",
    "        end_time.strftime('%Y-%m-%d %H:%M:%S'),\n",
    "        band_save_path,\n",
    "        satellite_name,\n",
    "        product_name,\n",
    "        domain_name,\n",
    "        [1]\n",
    "    )\n",
    "    \n",
    "    # Optionally, use data_information as needed\n",
    "    #print(f\"Data retrieval for band {band} at {hour} hour completed successfully.\")"
   ]
  },
  {
   "cell_type": "code",
   "execution_count": 18,
   "id": "0e4135ac-58e8-49d1-9e02-4e1fb56969bb",
   "metadata": {},
   "outputs": [],
   "source": [
    "filename = 'output/noaa-goes17/ABI-L1b-RadF/2022/361/00/OR_ABI-L1b-RadF-M6C01_G17_s20223610000320_e20223610009386_c20223610009429.nc'"
   ]
  },
  {
   "cell_type": "code",
   "execution_count": 20,
   "id": "816113e6-eaa3-4cde-883d-b0625a094d02",
   "metadata": {},
   "outputs": [],
   "source": [
    "import xarray as xr"
   ]
  },
  {
   "cell_type": "code",
   "execution_count": 22,
   "id": "308c62ae-f3aa-438f-834e-36ea63ea4ea4",
   "metadata": {},
   "outputs": [],
   "source": [
    "ds = xr.open_dataset(filename)"
   ]
  },
  {
   "cell_type": "code",
   "execution_count": 23,
   "id": "a12c763a-c3a7-4a4e-9a35-fbf148b95874",
   "metadata": {},
   "outputs": [
    {
     "name": "stdout",
     "output_type": "stream",
     "text": [
      "<xarray.Dataset>\n",
      "Dimensions:                                           (y: 10848, x: 10848,\n",
      "                                                       number_of_time_bounds: 2,\n",
      "                                                       number_of_image_bounds: 2,\n",
      "                                                       band: 1,\n",
      "                                                       num_star_looks: 24)\n",
      "Coordinates:\n",
      "    t                                                 datetime64[ns] ...\n",
      "  * y                                                 (y) float64 0.1519 ... ...\n",
      "  * x                                                 (x) float64 -0.1519 ......\n",
      "    y_image                                           float32 ...\n",
      "    x_image                                           float32 ...\n",
      "    band_id                                           (band) int8 ...\n",
      "    band_wavelength                                   (band) float32 ...\n",
      "    t_star_look                                       (num_star_looks) datetime64[ns] ...\n",
      "    band_wavelength_star_look                         (num_star_looks) float32 ...\n",
      "Dimensions without coordinates: number_of_time_bounds, number_of_image_bounds,\n",
      "                                band, num_star_looks\n",
      "Data variables: (12/37)\n",
      "    Rad                                               (y, x) float32 ...\n",
      "    DQF                                               (y, x) float32 ...\n",
      "    time_bounds                                       (number_of_time_bounds) datetime64[ns] ...\n",
      "    goes_imager_projection                            int32 ...\n",
      "    y_image_bounds                                    (number_of_image_bounds) float32 ...\n",
      "    x_image_bounds                                    (number_of_image_bounds) float32 ...\n",
      "    ...                                                ...\n",
      "    algorithm_dynamic_input_data_container            int32 ...\n",
      "    processing_parm_version_container                 int32 ...\n",
      "    algorithm_product_version_container               int32 ...\n",
      "    star_id                                           (num_star_looks) float32 ...\n",
      "    channel_integration_time                          float64 ...\n",
      "    channel_gain_field                                float64 ...\n",
      "Attributes: (12/30)\n",
      "    naming_authority:          gov.nesdis.noaa\n",
      "    Conventions:               CF-1.7\n",
      "    standard_name_vocabulary:  CF Standard Name Table (v35, 20 July 2016)\n",
      "    institution:               DOC/NOAA/NESDIS > U.S. Department of Commerce,...\n",
      "    project:                   GOES\n",
      "    production_site:           WCDAS\n",
      "    ...                        ...\n",
      "    timeline_id:               ABI Mode 6\n",
      "    date_created:              2022-12-27T00:09:42.9Z\n",
      "    time_coverage_start:       2022-12-27T00:00:32.0Z\n",
      "    time_coverage_end:         2022-12-27T00:09:38.6Z\n",
      "    LUT_Filenames:             SpaceLookParams(FM2A_CDRL79RevP_PR_09_08_04)-7...\n",
      "    id:                        1dde35b6-2546-417b-8a59-8e81ba935cf1\n"
     ]
    }
   ],
   "source": [
    "print(ds)"
   ]
  },
  {
   "cell_type": "code",
   "execution_count": 1,
   "id": "fcb2d07b-d747-4d3b-917d-9ff98970694b",
   "metadata": {},
   "outputs": [],
   "source": [
    "import GOES\n",
    "import pyproj as pyproj\n",
    "from pyresample import utils\n",
    "from pyresample.geometry import SwathDefinition\n",
    "from pyresample.kd_tree import resample_nearest\n",
    "import numpy as np\n",
    "import concurrent.futures\n",
    "\n",
    "import datetime\n",
    "import matplotlib.pyplot as plt"
   ]
  },
  {
   "cell_type": "code",
   "execution_count": 4,
   "id": "c57b2345-cf93-4bf2-8c3c-5df8e6b13f83",
   "metadata": {},
   "outputs": [],
   "source": [
    "def goes_reproject(filename, domain, var):\n",
    "  ds = GOES.open_dataset(filename)\n",
    "  CMI, LonCen, LatCen = ds.image(var, lonlat='center', domain=domain)\n",
    "  sat = ds.attribute('platform_ID')\n",
    "  band = ds.variable('band_id').data[0]\n",
    "  wl = ds.variable('band_wavelength').data[0]\n",
    "  standard_name = CMI.standard_name\n",
    "  units = CMI.units\n",
    "  time_bounds = CMI.time_bounds\n",
    "  LonCenCyl, LatCenCyl = GOES.create_gridmap(domain, PixResol=2.0)\n",
    "  LonCorCyl, LatCorCyl = GOES.calculate_corners(LonCenCyl, LatCenCyl)\n",
    "  Prj = pyproj.Proj('+proj=eqc +lat_ts=0 +lat_0=0 +lon_0=0 +x_0=0 +y_0=0 +a=6378.137 +b=6378.137 +units=km')\n",
    "  AreaID = 'cyl'\n",
    "  AreaName = 'cyl'\n",
    "  ProjID = 'cyl'\n",
    "  Proj4Args = '+proj=eqc +lat_ts=0 +lat_0=0 +lon_0=0 +x_0=0 +y_0=0 +a=6378.137 +b=6378.137 +units=km'\n",
    "\n",
    "  ny, nx = LonCenCyl.data.shape\n",
    "  SW = Prj(LonCenCyl.data.min(), LatCenCyl.data.min())\n",
    "  NE = Prj(LonCenCyl.data.max(), LatCenCyl.data.max())\n",
    "  area_extent = [SW[0], SW[1], NE[0], NE[1]]\n",
    "  AreaDef = utils.get_area_def(AreaID, AreaName, ProjID, Proj4Args, nx, ny, area_extent)\n",
    "\n",
    "  SwathDef = SwathDefinition(lons=LonCen.data, lats=LatCen.data)\n",
    "  CMICyl = resample_nearest(SwathDef, CMI.data, AreaDef, radius_of_influence=6000,\n",
    "                            fill_value=np.nan, epsilon=3, reduce_data=True)\n",
    "  del CMI, LonCen, LatCen, SwathDef, LonCenCyl, LatCenCyl\n",
    "\n",
    "  return LatCorCyl.data, LonCorCyl.data, CMICyl.data"
   ]
  },
  {
   "cell_type": "code",
   "execution_count": 7,
   "id": "0d7a293f-9902-4dcb-9b8b-182c931b87ef",
   "metadata": {},
   "outputs": [
    {
     "name": "stdout",
     "output_type": "stream",
     "text": [
      "Processing output/noaa-goes17/ABI-L1b-RadF/2022/361/06/OR_ABI-L1b-RadF-M6C01_G17_s20223610600320_e20223610609387_c20223610609439.nc took 0:00:25.284233 sec\n"
     ]
    }
   ],
   "source": [
    "# Define the domain and the list of file paths\n",
    "domain = [-180, -90, 0, 80]\n",
    "filepaths = ['output/noaa-goes17/ABI-L1b-RadF/2022/361/06/OR_ABI-L1b-RadF-M6C01_G17_s20223610600320_e20223610609387_c20223610609439.nc']  # Replace with your actual file paths\n",
    "\n",
    "# Function to process each file\n",
    "def process_file(filepath):\n",
    "  t1 = datetime.datetime.now()\n",
    "  LatCorCyl, LonCorCyl, CMICyl = goes_reproject(filepath, domain, 'Rad')\n",
    "  print(f'Processing {filepath} took {datetime.datetime.now() - t1} sec')\n",
    "  return LatCorCyl, LonCorCyl, CMICyl\n",
    "\n",
    "lat, lon, data = process_file(filepaths[0])"
   ]
  },
  {
   "cell_type": "code",
   "execution_count": 8,
   "id": "8adf7c96-3bf3-4547-ad49-f42ae128da5f",
   "metadata": {},
   "outputs": [
    {
     "data": {
      "image/png": "[encoded data removed]",
      "text/plain": [
       "<Figure size 640x480 with 2 Axes>"
      ]
     },
     "metadata": {},
     "output_type": "display_data"
    }
   ],
   "source": [
    "import cartopy.crs as ccrs\n",
    "import cartopy.feature as cfeature\n",
    "\n",
    "fig, ax = plt.subplots(subplot_kw={'projection': ccrs.PlateCarree()})\n",
    "\n",
    "# Plot the data\n",
    "mesh = ax.pcolormesh(lon, lat, data, transform=ccrs.PlateCarree(), cmap='viridis')\n",
    "\n",
    "# Add coastlines and gridlines\n",
    "ax.coastlines()\n",
    "ax.add_feature(cfeature.BORDERS)\n",
    "\n",
    "ax.set_xlim(domain[0], domain[1])\n",
    "ax.set_ylim(domain[2], domain[3])\n",
    "\n",
    "# Add a colorbar\n",
    "cbar = plt.colorbar(mesh, ax=ax, orientation='vertical', pad=0.05)\n",
    "cbar.set_label('Data Value')\n",
    "\n",
    "# Set the title\n",
    "plt.title('Data Matrix Plot')\n",
    "\n",
    "# Show the plot\n",
    "plt.show()"
   ]
  },
  {
   "cell_type": "code",
   "execution_count": null,
   "id": "5329a35d-292c-4bdb-83ce-383f00a3fa7d",
   "metadata": {},
   "outputs": [],
   "source": []
  }
 ],
 "metadata": {
  "kernelspec": {
   "display_name": "ar-goes",
   "language": "python",
   "name": "ar-goes"
  },
  "language_info": {
   "codemirror_mode": {
    "name": "ipython",
    "version": 3
   },
   "file_extension": ".py",
   "mimetype": "text/x-python",
   "name": "python",
   "nbconvert_exporter": "python",
   "pygments_lexer": "ipython3",
   "version": "3.10.12"
  }
 },
 "nbformat": 4,
 "nbformat_minor": 5
}
