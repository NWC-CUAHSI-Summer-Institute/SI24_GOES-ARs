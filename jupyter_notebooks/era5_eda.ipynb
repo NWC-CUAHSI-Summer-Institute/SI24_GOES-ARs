{
 "cells": [
  {
   "cell_type": "code",
   "execution_count": 1,
   "id": "54f2ca7c-d278-44d3-84d5-9ce07cb51cd1",
   "metadata": {},
   "outputs": [],
   "source": [
    "import xarray as xr\n",
    "import matplotlib.pyplot as plt\n",
    "import os\n",
    "import pandas as pd\n",
    "import numpy as np"
   ]
  },
  {
   "cell_type": "code",
   "execution_count": 13,
   "id": "b0157fc5-b15b-46ff-abbf-a2f05b3db6e2",
   "metadata": {},
   "outputs": [
    {
     "name": "stdout",
     "output_type": "stream",
     "text": [
      "44\n",
      "44\n",
      "28\n",
      "68\n",
      "24\n",
      "28\n",
      "4\n",
      "48\n",
      "92\n",
      "64\n",
      "80\n",
      "28\n",
      "64\n",
      "44\n",
      "52\n",
      "8\n",
      "36\n",
      "52\n",
      "44\n",
      "48\n"
     ]
    }
   ],
   "source": [
    "files = [f for f in os.listdir('era5') if len(f)<11]\n",
    "files.sort()\n",
    "for f in files:\n",
    "    ds = xr.open_dataset(os.path.join('era5',f))\n",
    "    print(len(ds.time))    "
   ]
  },
  {
   "cell_type": "code",
   "execution_count": 14,
   "id": "746c2d1b-c93e-4124-958f-7028579eaac7",
   "metadata": {},
   "outputs": [
    {
     "name": "stdout",
     "output_type": "stream",
     "text": [
      "44\n",
      "44\n",
      "28\n",
      "68\n",
      "24\n",
      "28\n",
      "4\n",
      "48\n",
      "92\n",
      "64\n",
      "80\n",
      "28\n",
      "64\n",
      "44\n",
      "52\n",
      "8\n",
      "36\n",
      "52\n",
      "44\n",
      "48\n"
     ]
    }
   ],
   "source": [
    "df = pd.read_csv('cdsapi_requests/cds_request1.csv')\n",
    "for idx, row in df.iterrows():\n",
    "    string = row['days'].strip(\"[]\")\n",
    "    string_list = string.split()\n",
    "    days = [int(num) for num in string_list]\n",
    "    print(len(days)*4)"
   ]
  },
  {
   "cell_type": "code",
   "execution_count": null,
   "id": "26f0be09-b5a3-4b6b-8720-8f439879a46a",
   "metadata": {},
   "outputs": [],
   "source": []
  }
 ],
 "metadata": {
  "kernelspec": {
   "display_name": "ar-goes",
   "language": "python",
   "name": "ar-goes"
  },
  "language_info": {
   "codemirror_mode": {
    "name": "ipython",
    "version": 3
   },
   "file_extension": ".py",
   "mimetype": "text/x-python",
   "name": "python",
   "nbconvert_exporter": "python",
   "pygments_lexer": "ipython3",
   "version": "3.10.12"
  }
 },
 "nbformat": 4,
 "nbformat_minor": 5
}
