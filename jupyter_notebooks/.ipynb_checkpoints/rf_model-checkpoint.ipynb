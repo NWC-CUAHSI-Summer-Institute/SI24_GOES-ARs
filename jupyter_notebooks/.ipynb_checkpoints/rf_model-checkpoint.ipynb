{
 "cells": [
  {
   "cell_type": "code",
   "execution_count": null,
   "id": "148d5f5a-0bfd-49da-9931-9f0aa1375d23",
   "metadata": {},
   "outputs": [],
   "source": [
    "import matplotlib.pyplot as plt\n",
    "import os\n",
    "import pandas as pd\n",
    "import numpy as np\n",
    "from tqdm import tqdm\n",
    "import datetime\n",
    "\n",
    "from sklearn.model_selection import train_test_split\n",
    "from sklearn.ensemble import RandomForestClassifier\n",
    "from sklearn.metrics import accuracy_score, classification_report"
   ]
  },
  {
   "cell_type": "code",
   "execution_count": null,
   "id": "95d08754-5770-4eb9-9737-5ec90b69f086",
   "metadata": {},
   "outputs": [],
   "source": [
    "root_dir = '/home/ayadav7/'"
   ]
  },
  {
   "cell_type": "code",
   "execution_count": null,
   "id": "ad78b230-a541-41d2-a610-cbddbc8ab281",
   "metadata": {},
   "outputs": [],
   "source": [
    "x_files = [os.path.join(root_dir, 'preprocessed_data', f'X_{i}.npy') for i in range(1, 2)]\n",
    "y_files = [os.path.join(root_dir, 'preprocessed_data', f'y_{i}.npy') for i in range(1, 2)]\n",
    "\n",
    "# Split file paths into training and testing sets\n",
    "x_train_files, x_test_files, y_train_files, y_test_files = train_test_split(\n",
    "    x_files, y_files, test_size=0.2, random_state=42\n",
    ")"
   ]
  },
  {
   "cell_type": "code",
   "execution_count": null,
   "id": "cee2f6f5-c6b9-4f19-8726-8846b41f8274",
   "metadata": {},
   "outputs": [],
   "source": [
    "# Function to normalize data using min-max normalization for each channel\n",
    "def min_max_normalize_channel_wise(data):\n",
    "    normalized_data = np.empty_like(data)\n",
    "    num_channels = data.shape[-1]\n",
    "    for i in range(num_channels):\n",
    "        min_val = np.min(data[..., i])\n",
    "        max_val = np.max(data[..., i])\n",
    "        normalized_data[..., i] = (data[..., i] - min_val) / (max_val - min_val)\n",
    "    return normalized_data\n",
    "\n",
    "# Function to load, normalize, and combine data\n",
    "def load_and_normalize_data(x_files, y_files):\n",
    "    X_combined = []\n",
    "    y_combined = []\n",
    "\n",
    "    for i in tqdm(range(len(x_files)), desc=\"Loading and Normalizing Data\"):\n",
    "        X = np.nan_to_num(np.load(x_files[i]), nan=0.0)\n",
    "        y = np.load(y_files[i])\n",
    "\n",
    "        # Normalize each channel separately\n",
    "        X = min_max_normalize_channel_wise(X)\n",
    "\n",
    "        # Reshape X: (30, 896, 896, 18) -> (30 * 896 * 896, 18)\n",
    "        X_reshaped = X.reshape(-1, X.shape[-1])\n",
    "        X_combined.append(X_reshaped)\n",
    "\n",
    "        # Reshape y: (1, 896, 896, 1) -> (896 * 896,)\n",
    "        y_reshaped = y.reshape(-1)\n",
    "        y_combined.append(y_reshaped)\n",
    "\n",
    "    # Combine all the data\n",
    "    X_combined = np.vstack(X_combined)\n",
    "    y_combined = np.hstack(y_combined)\n",
    "\n",
    "    return X_combined, y_combined"
   ]
  },
  {
   "cell_type": "code",
   "execution_count": null,
   "id": "e9a85f4d-eef0-4610-9cf1-cfcc9ef914a3",
   "metadata": {},
   "outputs": [],
   "source": [
    "# Load and normalize training data\n",
    "X_train, y_train = load_and_normalize_data(x_train_files, y_train_files)\n",
    "\n",
    "# Load and normalize testing data\n",
    "X_test, y_test = load_and_normalize_data(x_test_files, y_test_files)"
   ]
  },
  {
   "cell_type": "code",
   "execution_count": null,
   "id": "35d92dcd-a574-4fce-87ca-51fcacf995e7",
   "metadata": {},
   "outputs": [],
   "source": [
    "# Train the Random Forest model\n",
    "rf_model = RandomForestRegressor(n_estimators=100, random_state=42)\n",
    "rf_model.fit(X_train, y_train)\n",
    "\n",
    "# Evaluate the model\n",
    "y_pred_train = rf_model.predict(X_train)\n",
    "train_mse = mean_squared_error(y_train, y_pred_train)\n",
    "print(f\"Training Mean Squared Error: {train_mse}\")\n",
    "\n",
    "y_pred_test = rf_model.predict(X_test)\n",
    "test_mse = mean_squared_error(y_test, y_pred_test)\n",
    "print(f\"Testing Mean Squared Error: {test_mse}\")"
   ]
  },
  {
   "cell_type": "code",
   "execution_count": null,
   "id": "b9decf12-7404-442a-b6f6-b72a4cbeea5b",
   "metadata": {},
   "outputs": [],
   "source": [
    "new_X_list = [np.load(f) for f in x_test_files[:1]]  # Replace with actual new data file paths\n",
    "new_X_combined, _ = load_and_normalize_data(new_X_list, new_X_list)  # Second parameter is dummy\n",
    "new_predictions = rf_model.predict(new_X_combined)\n",
    "\n",
    "# Reshape the predictions back to the original image shape\n",
    "new_predictions_reshaped = new_predictions.reshape(30, 896, 896, 1)  # Adjust based on actual data\n",
    "print(f\"Predictions shape: {new_predictions_reshaped.shape}\")"
   ]
  }
 ],
 "metadata": {
  "kernelspec": {
   "display_name": "ar-goes",
   "language": "python",
   "name": "ar-goes"
  },
  "language_info": {
   "codemirror_mode": {
    "name": "ipython",
    "version": 3
   },
   "file_extension": ".py",
   "mimetype": "text/x-python",
   "name": "python",
   "nbconvert_exporter": "python",
   "pygments_lexer": "ipython3",
   "version": "3.10.13"
  }
 },
 "nbformat": 4,
 "nbformat_minor": 5
}
