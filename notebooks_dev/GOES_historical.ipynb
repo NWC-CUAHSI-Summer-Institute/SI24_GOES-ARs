{
 "cells": [
  {
   "cell_type": "markdown",
   "id": "a786a244-1419-482f-806e-38352d8650a6",
   "metadata": {},
   "source": [
    "# GOES historical data download with respect to labeled AR data"
   ]
  },
  {
   "cell_type": "markdown",
   "id": "a9e6596b-2a95-49d0-b16b-019172055df6",
   "metadata": {},
   "source": [
    "This is the code to download historical data."
   ]
  },
  {
   "cell_type": "code",
   "execution_count": null,
   "id": "dddfb7bc-ff9e-45ac-8675-981cf9aac30d",
   "metadata": {},
   "outputs": [],
   "source": [
    "import os\n",
    "\n",
    "# Directory where files are stored\n",
    "download_dir = 'labeled_AR'\n",
    "\n",
    "# List to store file names\n",
    "files = []\n",
    "\n",
    "# Iterate over files in the directory\n",
    "for file_name in os.listdir(download_dir):\n",
    "    if file_name.endswith('.nc'):\n",
    "        files.append(os.path.join(download_dir, file_name))\n",
    "\n",
    "# Sort the list of file names\n",
    "files.sort()\n",
    "files"
   ]
  },
  {
   "cell_type": "code",
   "execution_count": null,
   "id": "d60538cb-c328-4ab8-ad32-5c1b0d93ce08",
   "metadata": {
    "tags": []
   },
   "outputs": [],
   "source": [
    "import os\n",
    "import requests\n",
    "from concurrent.futures import ThreadPoolExecutor\n",
    "from datetime import datetime, timedelta\n",
    "\n",
    "# Directory to save the downloaded files\n",
    "save_dir = \"\"\n",
    "os.makedirs(save_dir, exist_ok=True)\n",
    "\n",
    "# Base URL\n",
    "base_url = \"https://www.ncei.noaa.gov/data/gridsat-goes/access/goes\"\n",
    "\n",
    "# Specify start and end dates\n",
    "start_date = datetime(1996, 9, 26, 0, 0)\n",
    "end_date = datetime(1996, 10, 5, 23, 0)\n",
    "\n",
    "# Function to generate URLs based on date range\n",
    "def generate_urls(start_date, end_date):\n",
    "    urls = []\n",
    "    current_date = start_date\n",
    "    while current_date <= end_date:\n",
    "        date_str = current_date.strftime(\"%Y.%m.%d.%H00\")\n",
    "        filename = f\"GridSat-GOES.goes08.{date_str}.v01.nc\"\n",
    "        url = f\"{base_url}/{current_date.year}/{current_date.strftime('%m')}/{filename}\"\n",
    "        urls.append(url)\n",
    "        current_date += timedelta(hours=1)\n",
    "    return urls\n",
    "\n",
    "# Function to download a file\n",
    "def download_file(url):\n",
    "    response = requests.get(url, stream=True)\n",
    "    if response.status_code == 200:\n",
    "        filename = os.path.join(save_dir, os.path.basename(url))\n",
    "        with open(filename, 'wb') as file:\n",
    "            for chunk in response.iter_content(chunk_size=8192):\n",
    "                file.write(chunk)\n",
    "        print(f\"Downloaded {filename}\")\n",
    "    else:\n",
    "        print(f\"Failed to download {url}\")\n",
    "\n",
    "# Generate the list of URLs to download\n",
    "urls = generate_urls(start_date, end_date)\n",
    "\n",
    "# Use ThreadPoolExecutor to download files concurrently\n",
    "with ThreadPoolExecutor(max_workers=5) as executor:\n",
    "    executor.map(download_file, urls)\n",
    "\n",
    "print(\"All files downloaded.\")\n"
   ]
  },
  {
   "cell_type": "code",
   "execution_count": null,
   "id": "72c0e3b9-a9f5-4597-8099-ef79e57c2a2f",
   "metadata": {
    "tags": []
   },
   "outputs": [],
   "source": [
    "files = os.listdir(os.getcwd())\n",
    "files"
   ]
  },
  {
   "cell_type": "code",
   "execution_count": null,
   "id": "89ad0ad9-b3f8-45fe-b543-321a3b6a8e14",
   "metadata": {
    "tags": []
   },
   "outputs": [],
   "source": [
    "import os\n",
    "\n",
    "# Directory where files are stored\n",
    "download_dir = ''\n",
    "\n",
    "# List to store file names\n",
    "files = []\n",
    "\n",
    "# Iterate over files in the directory\n",
    "for file_name in os.listdir(download_dir):\n",
    "    if file_name.endswith('.nc'):\n",
    "        files.append(os.path.join(download_dir, file_name))\n",
    "\n",
    "# Sort the list of file names\n",
    "files.sort()\n",
    "files\n"
   ]
  },
  {
   "cell_type": "code",
   "execution_count": null,
   "id": "3be09eba-723a-4af3-8fc2-e6ed0e490915",
   "metadata": {
    "tags": []
   },
   "outputs": [],
   "source": [
    "!pip install cartopy"
   ]
  },
  {
   "cell_type": "code",
   "execution_count": null,
   "id": "d966df94-9dab-4992-b8e4-1a372ec9fd6f",
   "metadata": {
    "tags": []
   },
   "outputs": [],
   "source": [
    "import xarray as xr\n",
    "import matplotlib.pyplot as plt\n",
    "import cartopy.crs as ccrs\n",
    "import os\n",
    "\n",
    "# Directory containing the NetCDF files\n",
    "data_dir = ''\n",
    "# List of NetCDF files to process\n",
    "nc_files = [f for f in os.listdir(data_dir) if f.endswith('.nc')]\n",
    "\n",
    "# Define the latitude and longitude bounds for the US\n",
    "lat_bounds = [10, 100]  # Southernmost and northernmost points of the continental US\n",
    "lon_bounds = [-180, -40]  # Westernmost and easternmost points of the continental US\n",
    "\n",
    "# Function to process and plot data from a single file\n",
    "def process_and_plot(nc_file):\n",
    "    # Open the NetCDF file\n",
    "    dataset = xr.open_dataset(os.path.join(data_dir, nc_file))\n",
    "    \n",
    "    # Select the variable you want to plot\n",
    "    variable = dataset['ch3']\n",
    "    \n",
    "    # Crop the data to the US bounds\n",
    "    variable_us = variable.sel(lat=slice(lat_bounds[0], lat_bounds[1]), lon=slice(lon_bounds[0], lon_bounds[1]))\n",
    "    \n",
    "    # Create a figure and axis with a globe projection\n",
    "    fig = plt.figure(figsize=(10, 6))\n",
    "    ax = plt.axes(projection=ccrs.Mercator())\n",
    "    \n",
    "    # Plot the variable on the globe\n",
    "    variable_us.plot(ax=ax, transform=ccrs.PlateCarree(), cmap='viridis')  # Added cmap for better visualization\n",
    "    \n",
    "    # Add coastlines and gridlines\n",
    "    ax.coastlines()\n",
    "    ax.gridlines(draw_labels=True)\n",
    "    \n",
    "    # Set the title\n",
    "    plt.title(f'Variable from {nc_file} (Cropped to US)')\n",
    "    \n",
    "    # Show the plot\n",
    "    plt.show()\n",
    "\n",
    "# Iterate through the NetCDF files and process them\n",
    "for nc_file in nc_files:\n",
    "    process_and_plot(nc_file)\n"
   ]
  }
 ],
 "metadata": {
  "kernelspec": {
   "display_name": "Python 3 (ipykernel)",
   "language": "python",
   "name": "python3"
  },
  "language_info": {
   "codemirror_mode": {
    "name": "ipython",
    "version": 3
   },
   "file_extension": ".py",
   "mimetype": "text/x-python",
   "name": "python",
   "nbconvert_exporter": "python",
   "pygments_lexer": "ipython3",
   "version": "3.10.14"
  }
 },
 "nbformat": 4,
 "nbformat_minor": 5
}
